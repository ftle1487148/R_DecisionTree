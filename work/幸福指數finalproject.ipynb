{
 "cells": [
  {
   "cell_type": "code",
   "execution_count": 18,
   "metadata": {},
   "outputs": [
    {
     "data": {
      "text/html": [
       "<div>\n",
       "<style scoped>\n",
       "    .dataframe tbody tr th:only-of-type {\n",
       "        vertical-align: middle;\n",
       "    }\n",
       "\n",
       "    .dataframe tbody tr th {\n",
       "        vertical-align: top;\n",
       "    }\n",
       "\n",
       "    .dataframe thead th {\n",
       "        text-align: right;\n",
       "    }\n",
       "</style>\n",
       "<table border=\"1\" class=\"dataframe\">\n",
       "  <thead>\n",
       "    <tr style=\"text-align: right;\">\n",
       "      <th></th>\n",
       "      <th>Overall rank</th>\n",
       "      <th>Country or region</th>\n",
       "      <th>Score</th>\n",
       "      <th>GDP per capita</th>\n",
       "      <th>Social support</th>\n",
       "      <th>Healthy life expectancy</th>\n",
       "      <th>Freedom to make life choices</th>\n",
       "      <th>Generosity</th>\n",
       "      <th>Perceptions of corruption</th>\n",
       "    </tr>\n",
       "  </thead>\n",
       "  <tbody>\n",
       "    <tr>\n",
       "      <td>24</td>\n",
       "      <td>25</td>\n",
       "      <td>Taiwan</td>\n",
       "      <td>6.446</td>\n",
       "      <td>1.368</td>\n",
       "      <td>1.43</td>\n",
       "      <td>0.914</td>\n",
       "      <td>0.351</td>\n",
       "      <td>0.242</td>\n",
       "      <td>0.097</td>\n",
       "    </tr>\n",
       "  </tbody>\n",
       "</table>\n",
       "</div>"
      ],
      "text/plain": [
       "    Overall rank Country or region  Score  GDP per capita  Social support  \\\n",
       "24            25            Taiwan  6.446           1.368            1.43   \n",
       "\n",
       "    Healthy life expectancy  Freedom to make life choices  Generosity  \\\n",
       "24                    0.914                         0.351       0.242   \n",
       "\n",
       "    Perceptions of corruption  \n",
       "24                      0.097  "
      ]
     },
     "execution_count": 18,
     "metadata": {},
     "output_type": "execute_result"
    }
   ],
   "source": [
    "import pandas as pd\n",
    "data1 = pd.read_csv(\"finalproject_datasets_2019.csv\")\n",
    "data2 = pd.read_csv(\"finalproject_datasets_2018.csv\")\n",
    "\n",
    "data1\n",
    "data1[data1[\"Country or region\"] == \"Taiwan\"]"
   ]
  },
  {
   "cell_type": "code",
   "execution_count": 19,
   "metadata": {},
   "outputs": [
    {
     "data": {
      "text/html": [
       "<div>\n",
       "<style scoped>\n",
       "    .dataframe tbody tr th:only-of-type {\n",
       "        vertical-align: middle;\n",
       "    }\n",
       "\n",
       "    .dataframe tbody tr th {\n",
       "        vertical-align: top;\n",
       "    }\n",
       "\n",
       "    .dataframe thead th {\n",
       "        text-align: right;\n",
       "    }\n",
       "</style>\n",
       "<table border=\"1\" class=\"dataframe\">\n",
       "  <thead>\n",
       "    <tr style=\"text-align: right;\">\n",
       "      <th></th>\n",
       "      <th>Overall rank</th>\n",
       "      <th>Score</th>\n",
       "      <th>GDP per capita</th>\n",
       "      <th>Social support</th>\n",
       "      <th>Healthy life expectancy</th>\n",
       "      <th>Freedom to make life choices</th>\n",
       "      <th>Generosity</th>\n",
       "      <th>Perceptions of corruption</th>\n",
       "    </tr>\n",
       "  </thead>\n",
       "  <tbody>\n",
       "    <tr>\n",
       "      <td>count</td>\n",
       "      <td>156.000000</td>\n",
       "      <td>156.000000</td>\n",
       "      <td>156.000000</td>\n",
       "      <td>156.000000</td>\n",
       "      <td>156.000000</td>\n",
       "      <td>156.000000</td>\n",
       "      <td>156.000000</td>\n",
       "      <td>156.000000</td>\n",
       "    </tr>\n",
       "    <tr>\n",
       "      <td>mean</td>\n",
       "      <td>78.500000</td>\n",
       "      <td>5.407096</td>\n",
       "      <td>0.905147</td>\n",
       "      <td>1.208814</td>\n",
       "      <td>0.725244</td>\n",
       "      <td>0.392571</td>\n",
       "      <td>0.184846</td>\n",
       "      <td>0.110603</td>\n",
       "    </tr>\n",
       "    <tr>\n",
       "      <td>std</td>\n",
       "      <td>45.177428</td>\n",
       "      <td>1.113120</td>\n",
       "      <td>0.398389</td>\n",
       "      <td>0.299191</td>\n",
       "      <td>0.242124</td>\n",
       "      <td>0.143289</td>\n",
       "      <td>0.095254</td>\n",
       "      <td>0.094538</td>\n",
       "    </tr>\n",
       "    <tr>\n",
       "      <td>min</td>\n",
       "      <td>1.000000</td>\n",
       "      <td>2.853000</td>\n",
       "      <td>0.000000</td>\n",
       "      <td>0.000000</td>\n",
       "      <td>0.000000</td>\n",
       "      <td>0.000000</td>\n",
       "      <td>0.000000</td>\n",
       "      <td>0.000000</td>\n",
       "    </tr>\n",
       "    <tr>\n",
       "      <td>25%</td>\n",
       "      <td>39.750000</td>\n",
       "      <td>4.544500</td>\n",
       "      <td>0.602750</td>\n",
       "      <td>1.055750</td>\n",
       "      <td>0.547750</td>\n",
       "      <td>0.308000</td>\n",
       "      <td>0.108750</td>\n",
       "      <td>0.047000</td>\n",
       "    </tr>\n",
       "    <tr>\n",
       "      <td>50%</td>\n",
       "      <td>78.500000</td>\n",
       "      <td>5.379500</td>\n",
       "      <td>0.960000</td>\n",
       "      <td>1.271500</td>\n",
       "      <td>0.789000</td>\n",
       "      <td>0.417000</td>\n",
       "      <td>0.177500</td>\n",
       "      <td>0.085500</td>\n",
       "    </tr>\n",
       "    <tr>\n",
       "      <td>75%</td>\n",
       "      <td>117.250000</td>\n",
       "      <td>6.184500</td>\n",
       "      <td>1.232500</td>\n",
       "      <td>1.452500</td>\n",
       "      <td>0.881750</td>\n",
       "      <td>0.507250</td>\n",
       "      <td>0.248250</td>\n",
       "      <td>0.141250</td>\n",
       "    </tr>\n",
       "    <tr>\n",
       "      <td>max</td>\n",
       "      <td>156.000000</td>\n",
       "      <td>7.769000</td>\n",
       "      <td>1.684000</td>\n",
       "      <td>1.624000</td>\n",
       "      <td>1.141000</td>\n",
       "      <td>0.631000</td>\n",
       "      <td>0.566000</td>\n",
       "      <td>0.453000</td>\n",
       "    </tr>\n",
       "  </tbody>\n",
       "</table>\n",
       "</div>"
      ],
      "text/plain": [
       "       Overall rank       Score  GDP per capita  Social support  \\\n",
       "count    156.000000  156.000000      156.000000      156.000000   \n",
       "mean      78.500000    5.407096        0.905147        1.208814   \n",
       "std       45.177428    1.113120        0.398389        0.299191   \n",
       "min        1.000000    2.853000        0.000000        0.000000   \n",
       "25%       39.750000    4.544500        0.602750        1.055750   \n",
       "50%       78.500000    5.379500        0.960000        1.271500   \n",
       "75%      117.250000    6.184500        1.232500        1.452500   \n",
       "max      156.000000    7.769000        1.684000        1.624000   \n",
       "\n",
       "       Healthy life expectancy  Freedom to make life choices  Generosity  \\\n",
       "count               156.000000                    156.000000  156.000000   \n",
       "mean                  0.725244                      0.392571    0.184846   \n",
       "std                   0.242124                      0.143289    0.095254   \n",
       "min                   0.000000                      0.000000    0.000000   \n",
       "25%                   0.547750                      0.308000    0.108750   \n",
       "50%                   0.789000                      0.417000    0.177500   \n",
       "75%                   0.881750                      0.507250    0.248250   \n",
       "max                   1.141000                      0.631000    0.566000   \n",
       "\n",
       "       Perceptions of corruption  \n",
       "count                 156.000000  \n",
       "mean                    0.110603  \n",
       "std                     0.094538  \n",
       "min                     0.000000  \n",
       "25%                     0.047000  \n",
       "50%                     0.085500  \n",
       "75%                     0.141250  \n",
       "max                     0.453000  "
      ]
     },
     "execution_count": 19,
     "metadata": {},
     "output_type": "execute_result"
    }
   ],
   "source": [
    "data1.describe()"
   ]
  },
  {
   "cell_type": "code",
   "execution_count": 20,
   "metadata": {},
   "outputs": [
    {
     "data": {
      "text/html": [
       "<div>\n",
       "<style scoped>\n",
       "    .dataframe tbody tr th:only-of-type {\n",
       "        vertical-align: middle;\n",
       "    }\n",
       "\n",
       "    .dataframe tbody tr th {\n",
       "        vertical-align: top;\n",
       "    }\n",
       "\n",
       "    .dataframe thead th {\n",
       "        text-align: right;\n",
       "    }\n",
       "</style>\n",
       "<table border=\"1\" class=\"dataframe\">\n",
       "  <thead>\n",
       "    <tr style=\"text-align: right;\">\n",
       "      <th></th>\n",
       "      <th>Overall rank</th>\n",
       "      <th>Country or region</th>\n",
       "      <th>Score</th>\n",
       "      <th>GDP per capita</th>\n",
       "      <th>Social support</th>\n",
       "      <th>Healthy life expectancy</th>\n",
       "      <th>Freedom to make life choices</th>\n",
       "      <th>Generosity</th>\n",
       "      <th>Perceptions of corruption</th>\n",
       "    </tr>\n",
       "  </thead>\n",
       "  <tbody>\n",
       "    <tr>\n",
       "      <td>92</td>\n",
       "      <td>93</td>\n",
       "      <td>China</td>\n",
       "      <td>5.191</td>\n",
       "      <td>1.029</td>\n",
       "      <td>1.125</td>\n",
       "      <td>0.893</td>\n",
       "      <td>0.521</td>\n",
       "      <td>0.058</td>\n",
       "      <td>0.1</td>\n",
       "    </tr>\n",
       "  </tbody>\n",
       "</table>\n",
       "</div>"
      ],
      "text/plain": [
       "    Overall rank Country or region  Score  GDP per capita  Social support  \\\n",
       "92            93             China  5.191           1.029           1.125   \n",
       "\n",
       "    Healthy life expectancy  Freedom to make life choices  Generosity  \\\n",
       "92                    0.893                         0.521       0.058   \n",
       "\n",
       "    Perceptions of corruption  \n",
       "92                        0.1  "
      ]
     },
     "execution_count": 20,
     "metadata": {},
     "output_type": "execute_result"
    }
   ],
   "source": [
    "data1[data1[\"Country or region\"] == \"China\"]"
   ]
  },
  {
   "cell_type": "code",
   "execution_count": 21,
   "metadata": {},
   "outputs": [
    {
     "data": {
      "text/html": [
       "<div>\n",
       "<style scoped>\n",
       "    .dataframe tbody tr th:only-of-type {\n",
       "        vertical-align: middle;\n",
       "    }\n",
       "\n",
       "    .dataframe tbody tr th {\n",
       "        vertical-align: top;\n",
       "    }\n",
       "\n",
       "    .dataframe thead th {\n",
       "        text-align: right;\n",
       "    }\n",
       "</style>\n",
       "<table border=\"1\" class=\"dataframe\">\n",
       "  <thead>\n",
       "    <tr style=\"text-align: right;\">\n",
       "      <th></th>\n",
       "      <th>Overall rank</th>\n",
       "      <th>Country or region</th>\n",
       "      <th>Score</th>\n",
       "      <th>GDP per capita</th>\n",
       "      <th>Social support</th>\n",
       "      <th>Healthy life expectancy</th>\n",
       "      <th>Freedom to make life choices</th>\n",
       "      <th>Generosity</th>\n",
       "      <th>Perceptions of corruption</th>\n",
       "    </tr>\n",
       "  </thead>\n",
       "  <tbody>\n",
       "    <tr>\n",
       "      <td>57</td>\n",
       "      <td>58</td>\n",
       "      <td>Japan</td>\n",
       "      <td>5.886</td>\n",
       "      <td>1.327</td>\n",
       "      <td>1.419</td>\n",
       "      <td>1.088</td>\n",
       "      <td>0.445</td>\n",
       "      <td>0.069</td>\n",
       "      <td>0.14</td>\n",
       "    </tr>\n",
       "  </tbody>\n",
       "</table>\n",
       "</div>"
      ],
      "text/plain": [
       "    Overall rank Country or region  Score  GDP per capita  Social support  \\\n",
       "57            58             Japan  5.886           1.327           1.419   \n",
       "\n",
       "    Healthy life expectancy  Freedom to make life choices  Generosity  \\\n",
       "57                    1.088                         0.445       0.069   \n",
       "\n",
       "    Perceptions of corruption  \n",
       "57                       0.14  "
      ]
     },
     "execution_count": 21,
     "metadata": {},
     "output_type": "execute_result"
    }
   ],
   "source": [
    "data1[data1[\"Country or region\"] == \"Japan\"]"
   ]
  },
  {
   "cell_type": "code",
   "execution_count": 22,
   "metadata": {},
   "outputs": [
    {
     "data": {
      "text/html": [
       "<div>\n",
       "<style scoped>\n",
       "    .dataframe tbody tr th:only-of-type {\n",
       "        vertical-align: middle;\n",
       "    }\n",
       "\n",
       "    .dataframe tbody tr th {\n",
       "        vertical-align: top;\n",
       "    }\n",
       "\n",
       "    .dataframe thead th {\n",
       "        text-align: right;\n",
       "    }\n",
       "</style>\n",
       "<table border=\"1\" class=\"dataframe\">\n",
       "  <thead>\n",
       "    <tr style=\"text-align: right;\">\n",
       "      <th></th>\n",
       "      <th>Overall rank</th>\n",
       "      <th>Country or region</th>\n",
       "      <th>Score</th>\n",
       "      <th>GDP per capita</th>\n",
       "      <th>Social support</th>\n",
       "      <th>Healthy life expectancy</th>\n",
       "      <th>Freedom to make life choices</th>\n",
       "      <th>Generosity</th>\n",
       "      <th>Perceptions of corruption</th>\n",
       "    </tr>\n",
       "  </thead>\n",
       "  <tbody>\n",
       "    <tr>\n",
       "      <td>53</td>\n",
       "      <td>54</td>\n",
       "      <td>South Korea</td>\n",
       "      <td>5.895</td>\n",
       "      <td>1.301</td>\n",
       "      <td>1.219</td>\n",
       "      <td>1.036</td>\n",
       "      <td>0.159</td>\n",
       "      <td>0.175</td>\n",
       "      <td>0.056</td>\n",
       "    </tr>\n",
       "  </tbody>\n",
       "</table>\n",
       "</div>"
      ],
      "text/plain": [
       "    Overall rank Country or region  Score  GDP per capita  Social support  \\\n",
       "53            54       South Korea  5.895           1.301           1.219   \n",
       "\n",
       "    Healthy life expectancy  Freedom to make life choices  Generosity  \\\n",
       "53                    1.036                         0.159       0.175   \n",
       "\n",
       "    Perceptions of corruption  \n",
       "53                      0.056  "
      ]
     },
     "execution_count": 22,
     "metadata": {},
     "output_type": "execute_result"
    }
   ],
   "source": [
    "data1[data1[\"Country or region\"] == \"South Korea\"]"
   ]
  },
  {
   "cell_type": "code",
   "execution_count": 23,
   "metadata": {},
   "outputs": [
    {
     "data": {
      "text/html": [
       "<div>\n",
       "<style scoped>\n",
       "    .dataframe tbody tr th:only-of-type {\n",
       "        vertical-align: middle;\n",
       "    }\n",
       "\n",
       "    .dataframe tbody tr th {\n",
       "        vertical-align: top;\n",
       "    }\n",
       "\n",
       "    .dataframe thead th {\n",
       "        text-align: right;\n",
       "    }\n",
       "</style>\n",
       "<table border=\"1\" class=\"dataframe\">\n",
       "  <thead>\n",
       "    <tr style=\"text-align: right;\">\n",
       "      <th></th>\n",
       "      <th>Overall rank</th>\n",
       "      <th>Country or region</th>\n",
       "      <th>Score</th>\n",
       "      <th>GDP per capita</th>\n",
       "      <th>Social support</th>\n",
       "      <th>Healthy life expectancy</th>\n",
       "      <th>Freedom to make life choices</th>\n",
       "      <th>Generosity</th>\n",
       "      <th>Perceptions of corruption</th>\n",
       "    </tr>\n",
       "  </thead>\n",
       "  <tbody>\n",
       "    <tr>\n",
       "      <td>33</td>\n",
       "      <td>34</td>\n",
       "      <td>Singapore</td>\n",
       "      <td>6.262</td>\n",
       "      <td>1.572</td>\n",
       "      <td>1.463</td>\n",
       "      <td>1.141</td>\n",
       "      <td>0.556</td>\n",
       "      <td>0.271</td>\n",
       "      <td>0.453</td>\n",
       "    </tr>\n",
       "  </tbody>\n",
       "</table>\n",
       "</div>"
      ],
      "text/plain": [
       "    Overall rank Country or region  Score  GDP per capita  Social support  \\\n",
       "33            34         Singapore  6.262           1.572           1.463   \n",
       "\n",
       "    Healthy life expectancy  Freedom to make life choices  Generosity  \\\n",
       "33                    1.141                         0.556       0.271   \n",
       "\n",
       "    Perceptions of corruption  \n",
       "33                      0.453  "
      ]
     },
     "execution_count": 23,
     "metadata": {},
     "output_type": "execute_result"
    }
   ],
   "source": [
    "data1[data1[\"Country or region\"] == \"Singapore\"]"
   ]
  },
  {
   "cell_type": "code",
   "execution_count": 24,
   "metadata": {},
   "outputs": [
    {
     "data": {
      "text/html": [
       "<div>\n",
       "<style scoped>\n",
       "    .dataframe tbody tr th:only-of-type {\n",
       "        vertical-align: middle;\n",
       "    }\n",
       "\n",
       "    .dataframe tbody tr th {\n",
       "        vertical-align: top;\n",
       "    }\n",
       "\n",
       "    .dataframe thead th {\n",
       "        text-align: right;\n",
       "    }\n",
       "</style>\n",
       "<table border=\"1\" class=\"dataframe\">\n",
       "  <thead>\n",
       "    <tr style=\"text-align: right;\">\n",
       "      <th></th>\n",
       "      <th>Overall rank</th>\n",
       "      <th>Country or region</th>\n",
       "      <th>Score</th>\n",
       "      <th>GDP per capita</th>\n",
       "      <th>Social support</th>\n",
       "      <th>Healthy life expectancy</th>\n",
       "      <th>Freedom to make life choices</th>\n",
       "      <th>Generosity</th>\n",
       "      <th>Perceptions of corruption</th>\n",
       "    </tr>\n",
       "  </thead>\n",
       "  <tbody>\n",
       "    <tr>\n",
       "      <td>75</td>\n",
       "      <td>76</td>\n",
       "      <td>Hong Kong</td>\n",
       "      <td>5.43</td>\n",
       "      <td>1.438</td>\n",
       "      <td>1.277</td>\n",
       "      <td>1.122</td>\n",
       "      <td>0.44</td>\n",
       "      <td>0.258</td>\n",
       "      <td>0.287</td>\n",
       "    </tr>\n",
       "  </tbody>\n",
       "</table>\n",
       "</div>"
      ],
      "text/plain": [
       "    Overall rank Country or region  Score  GDP per capita  Social support  \\\n",
       "75            76         Hong Kong   5.43           1.438           1.277   \n",
       "\n",
       "    Healthy life expectancy  Freedom to make life choices  Generosity  \\\n",
       "75                    1.122                          0.44       0.258   \n",
       "\n",
       "    Perceptions of corruption  \n",
       "75                      0.287  "
      ]
     },
     "execution_count": 24,
     "metadata": {},
     "output_type": "execute_result"
    }
   ],
   "source": [
    "data1[data1[\"Country or region\"] == \"Hong Kong\"]"
   ]
  },
  {
   "cell_type": "code",
   "execution_count": 25,
   "metadata": {},
   "outputs": [
    {
     "data": {
      "text/plain": [
       "75    5.43\n",
       "Name: Score, dtype: float64"
      ]
     },
     "execution_count": 25,
     "metadata": {},
     "output_type": "execute_result"
    }
   ],
   "source": [
    "#2019年台灣,中國,日本,南韓,新加坡,香港的總得分\n",
    "data1[data1[\"Country or region\"] == \"Taiwan\"][\"Score\"]\n",
    "data1[data1[\"Country or region\"] == \"China\"][\"Score\"]\n",
    "data1[data1[\"Country or region\"] == \"Japan\"][\"Score\"]\n",
    "data1[data1[\"Country or region\"] == \"South Korea\"][\"Score\"]\n",
    "data1[data1[\"Country or region\"] == \"Singapore\"][\"Score\"]\n",
    "data1[data1[\"Country or region\"] == \"Hong Kong\"][\"Score\"]"
   ]
  },
  {
   "cell_type": "code",
   "execution_count": 26,
   "metadata": {},
   "outputs": [
    {
     "data": {
      "text/plain": [
       "75    1.438\n",
       "Name: GDP per capita, dtype: float64"
      ]
     },
     "execution_count": 26,
     "metadata": {},
     "output_type": "execute_result"
    }
   ],
   "source": [
    "#2019年台灣,中國,日本,南韓,新加坡,香港的gdp\n",
    "data1[data1[\"Country or region\"] == \"Taiwan\"][\"GDP per capita\"]\n",
    "data1[data1[\"Country or region\"] == \"China\"][\"GDP per capita\"]\n",
    "data1[data1[\"Country or region\"] == \"Japan\"][\"GDP per capita\"]\n",
    "data1[data1[\"Country or region\"] == \"South Korea\"][\"GDP per capita\"]\n",
    "data1[data1[\"Country or region\"] == \"Singapore\"][\"GDP per capita\"]\n",
    "data1[data1[\"Country or region\"] == \"Hong Kong\"][\"GDP per capita\"]"
   ]
  },
  {
   "cell_type": "code",
   "execution_count": 27,
   "metadata": {},
   "outputs": [
    {
     "data": {
      "text/plain": [
       "75    1.277\n",
       "Name: Social support, dtype: float64"
      ]
     },
     "execution_count": 27,
     "metadata": {},
     "output_type": "execute_result"
    }
   ],
   "source": [
    "\n",
    "#2019年台灣,中國,日本,南韓,新加坡,香港的社會支援\n",
    "data1[data1[\"Country or region\"] == \"Taiwan\"][\"Social support\"]\n",
    "data1[data1[\"Country or region\"] == \"China\"][\"Social support\"]\n",
    "data1[data1[\"Country or region\"] == \"Japan\"][\"Social support\"]\n",
    "data1[data1[\"Country or region\"] == \"South Korea\"][\"Social support\"]\n",
    "data1[data1[\"Country or region\"] == \"Singapore\"][\"Social support\"]\n",
    "data1[data1[\"Country or region\"] == \"Hong Kong\"][\"Social support\"]"
   ]
  },
  {
   "cell_type": "code",
   "execution_count": 28,
   "metadata": {},
   "outputs": [
    {
     "data": {
      "text/plain": [
       "75    1.122\n",
       "Name: Healthy life expectancy, dtype: float64"
      ]
     },
     "execution_count": 28,
     "metadata": {},
     "output_type": "execute_result"
    }
   ],
   "source": [
    "#2019年台灣,中國,日本,南韓,新加坡,香港的平均預期健康餘命\n",
    "data1[data1[\"Country or region\"] == \"Taiwan\"][\"Healthy life expectancy\"]\n",
    "data1[data1[\"Country or region\"] == \"China\"][\"Healthy life expectancy\"]\n",
    "data1[data1[\"Country or region\"] == \"Japan\"][\"Healthy life expectancy\"]\n",
    "data1[data1[\"Country or region\"] == \"South Korea\"][\"Healthy life expectancy\"]\n",
    "data1[data1[\"Country or region\"] == \"Singapore\"][\"Healthy life expectancy\"]\n",
    "data1[data1[\"Country or region\"] == \"Hong Kong\"][\"Healthy life expectancy\"]"
   ]
  },
  {
   "cell_type": "code",
   "execution_count": 29,
   "metadata": {},
   "outputs": [
    {
     "data": {
      "text/plain": [
       "75    0.44\n",
       "Name: Freedom to make life choices, dtype: float64"
      ]
     },
     "execution_count": 29,
     "metadata": {},
     "output_type": "execute_result"
    }
   ],
   "source": [
    "\n",
    "#2019年台灣,中國,日本,南韓,新加坡,香港的生活選擇自由度\n",
    "data1[data1[\"Country or region\"] == \"Taiwan\"][\"Freedom to make life choices\"]\n",
    "data1[data1[\"Country or region\"] == \"China\"][\"Freedom to make life choices\"]\n",
    "data1[data1[\"Country or region\"] == \"Japan\"][\"Freedom to make life choices\"]\n",
    "data1[data1[\"Country or region\"] == \"South Korea\"][\"Freedom to make life choices\"]\n",
    "data1[data1[\"Country or region\"] == \"Singapore\"][\"Freedom to make life choices\"]\n",
    "data1[data1[\"Country or region\"] == \"Hong Kong\"][\"Freedom to make life choices\"]"
   ]
  },
  {
   "cell_type": "code",
   "execution_count": 30,
   "metadata": {},
   "outputs": [
    {
     "data": {
      "text/plain": [
       "75    0.258\n",
       "Name: Generosity, dtype: float64"
      ]
     },
     "execution_count": 30,
     "metadata": {},
     "output_type": "execute_result"
    }
   ],
   "source": [
    "#2019年台灣,中國,日本,南韓,新加坡,香港的對社會的慷慨程度\n",
    "data1[data1[\"Country or region\"] == \"Taiwan\"][\"Generosity\"]\n",
    "data1[data1[\"Country or region\"] == \"China\"][\"Generosity\"]\n",
    "data1[data1[\"Country or region\"] == \"Japan\"][\"Generosity\"]\n",
    "data1[data1[\"Country or region\"] == \"South Korea\"][\"Generosity\"]\n",
    "data1[data1[\"Country or region\"] == \"Singapore\"][\"Generosity\"]\n",
    "data1[data1[\"Country or region\"] == \"Hong Kong\"][\"Generosity\"]"
   ]
  },
  {
   "cell_type": "code",
   "execution_count": 31,
   "metadata": {},
   "outputs": [
    {
     "name": "stdout",
     "output_type": "stream",
     "text": [
      "24    0.097\n",
      "Name: Perceptions of corruption, dtype: float64\n"
     ]
    },
    {
     "data": {
      "text/plain": [
       "75    0.287\n",
       "Name: Perceptions of corruption, dtype: float64"
      ]
     },
     "execution_count": 31,
     "metadata": {},
     "output_type": "execute_result"
    }
   ],
   "source": [
    "#2019年台灣,中國,日本,南韓,新加坡,香港的人民對貪腐的印象\n",
    "print(data1[data1[\"Country or region\"] == \"Taiwan\"][\"Perceptions of corruption\"])\n",
    "data1[data1[\"Country or region\"] == \"China\"][\"Perceptions of corruption\"]\n",
    "data1[data1[\"Country or region\"] == \"Japan\"][\"Perceptions of corruption\"]\n",
    "data1[data1[\"Country or region\"] == \"South Korea\"][\"Perceptions of corruption\"]\n",
    "data1[data1[\"Country or region\"] == \"Singapore\"][\"Perceptions of corruption\"]\n",
    "data1[data1[\"Country or region\"] == \"Hong Kong\"][\"Perceptions of corruption\"]"
   ]
  },
  {
   "cell_type": "code",
   "execution_count": 40,
   "metadata": {
    "scrolled": true
   },
   "outputs": [
    {
     "name": "stdout",
     "output_type": "stream",
     "text": [
      "輸入要取得哪一年的資料集data1\n",
      "輸入國家Taiwan\n",
      "輸入指標Freedom to make life choices\n"
     ]
    },
    {
     "data": {
      "text/plain": [
       "24    0.351\n",
       "Name: Freedom to make life choices, dtype: float64"
      ]
     },
     "execution_count": 40,
     "metadata": {},
     "output_type": "execute_result"
    }
   ],
   "source": [
    "import pandas as pd\n",
    "data1 = pd.read_csv(\"finalproject_datasets_2019.csv\")\n",
    "data2 = pd.read_csv(\"finalproject_datasets_2018.csv\")\n",
    "\n",
    "def country_and_index(data,country,index):\n",
    "    x = data[data[\"Country or region\"] == country][index]\n",
    "    return x\n",
    "\n",
    "a = eval(input(\"輸入要取得哪一年的資料集\"))\n",
    "b = str(input(\"輸入國家\"))\n",
    "c = str(input(\"輸入指標\"))\n",
    "country_and_index(a,b,c)"
   ]
  },
  {
   "cell_type": "code",
   "execution_count": 33,
   "metadata": {
    "scrolled": true
   },
   "outputs": [
    {
     "data": {
      "text/plain": [
       "<BarContainer object of 6 artists>"
      ]
     },
     "execution_count": 33,
     "metadata": {},
     "output_type": "execute_result"
    },
    {
     "data": {
      "image/png": "[encoded data removed]",
      "text/plain": [
       "<Figure size 432x288 with 1 Axes>"
      ]
     },
     "metadata": {
      "needs_background": "light"
     },
     "output_type": "display_data"
    }
   ],
   "source": [
    "import numpy as np\n",
    "import matplotlib.pyplot as plt\n",
    "\n",
    "y = (25,93,58,54,34,76)\n",
    "x = ('Taiwan',\"China\",\"Japan\",\"SouthKorea\",\"Singapore\",\"HongKong\")\n",
    "plt.title(\"Overall rank\")\n",
    "\n",
    "plt.bar(x,y,color=['green','red','#A9A9A9','#8B008B','#B0C4DE','#D2B48C'])\n",
    "\n",
    "\n"
   ]
  },
  {
   "cell_type": "code",
   "execution_count": 34,
   "metadata": {},
   "outputs": [],
   "source": [
    "import numpy as np\n",
    "import matplotlib.pyplot as plt\n",
    "\n",
    "\n",
    "col_count = 3\n",
    "bar_width = 0.15\n",
    "index = np.arange(col_count)\n",
    "Taiwan_score = (6.446,1.368,1.43)\n",
    "China_score = (5.191,1.029,1.125)\n",
    "Japan_score = (5.886,1.327,1.419)\n",
    "SourhKorea_score = (5.895,1.301,1.219)\n",
    "Singapore_score = (6.262,1.572,1.463)\n",
    "HongKong_score = (5.43,1.438,1.277)\n",
    "\n"
   ]
  },
  {
   "cell_type": "code",
   "execution_count": null,
   "metadata": {},
   "outputs": [],
   "source": [
    "\n"
   ]
  },
  {
   "cell_type": "code",
   "execution_count": 35,
   "metadata": {},
   "outputs": [
    {
     "data": {
      "image/png": "[encoded data removed]",
      "text/plain": [
       "<Figure size 432x288 with 1 Axes>"
      ]
     },
     "metadata": {
      "needs_background": "light"
     },
     "output_type": "display_data"
    }
   ],
   "source": [
    "Taiwan = plt.bar(index,\n",
    "           Taiwan_score, \n",
    "           bar_width,\n",
    "           alpha=.4,\n",
    "           label=\"Taiwan\")\n",
    "China = plt.bar(index+0.15,\n",
    "            China_score,\n",
    "            bar_width,\n",
    "            alpha=.4,\n",
    "            label=\"China\") \n",
    "Japan = plt.bar(index+0.3,\n",
    "            Japan_score,\n",
    "            bar_width,\n",
    "            alpha=.4,\n",
    "            label=\"Japan\")\n",
    "SourhKorea = plt.bar(index+0.45,\n",
    "            SourhKorea_score,\n",
    "            bar_width,\n",
    "            alpha=.4,\n",
    "            label=\"SouthKorea\")\n",
    "Singapore = plt.bar(index+0.6,\n",
    "            Singapore_score,\n",
    "            bar_width,\n",
    "            alpha=.4,\n",
    "            label=\"Singapore\")\n",
    "HongKong = plt.bar(index+0.75,\n",
    "            HongKong_score,\n",
    "            bar_width,\n",
    "            alpha=.4,\n",
    "            label=\"HongKong\")\n",
    "\n",
    "# plt.ylabel(\"Mean score\")\n",
    "# plt.xlabel(\"Subject\")\n",
    "#plt.title(\"Test Scores by Contry\")\n",
    "plt.xticks(index+.3 / 2 ,(\"Score\",\"GDP per capital\",\"Social support\"))\n",
    "plt.ylim(0,7)\n",
    "\n",
    "plt.legend(prop = {'size':10}) \n",
    "plt.grid(True)\n",
    "plt.show()"
   ]
  },
  {
   "cell_type": "code",
   "execution_count": null,
   "metadata": {},
   "outputs": [],
   "source": []
  },
  {
   "cell_type": "code",
   "execution_count": 36,
   "metadata": {},
   "outputs": [],
   "source": [
    "col_count = 2\n",
    "bar_width = 0.15\n",
    "index = np.arange(col_count)\n",
    "Taiwan_score = (0.914,0.351)\n",
    "China_score = (0.893,0.521)\n",
    "Japan_score = (1.088,0.445)\n",
    "SourhKorea_score = (1.036,0.159)\n",
    "Singapore_score = (1.141,0.556)\n",
    "HongKong_score = (1.122,0.44)"
   ]
  },
  {
   "cell_type": "code",
   "execution_count": 37,
   "metadata": {
    "scrolled": true
   },
   "outputs": [
    {
     "data": {
      "image/png": "[encoded data removed]",
      "text/plain": [
       "<Figure size 432x288 with 1 Axes>"
      ]
     },
     "metadata": {
      "needs_background": "light"
     },
     "output_type": "display_data"
    }
   ],
   "source": [
    "Taiwan = plt.bar(index,\n",
    "           Taiwan_score, \n",
    "           bar_width,\n",
    "           alpha=.4,\n",
    "           label=\"Taiwan\")\n",
    "China = plt.bar(index+0.15,\n",
    "            China_score,\n",
    "            bar_width,\n",
    "            alpha=.4,\n",
    "            label=\"China\") \n",
    "Japan = plt.bar(index+0.3,\n",
    "            Japan_score,\n",
    "            bar_width,\n",
    "            alpha=.4,\n",
    "            label=\"Japan\")\n",
    "SourhKorea = plt.bar(index+0.45,\n",
    "            SourhKorea_score,\n",
    "            bar_width,\n",
    "            alpha=.4,\n",
    "            label=\"SourhKorea\")\n",
    "Singapore = plt.bar(index+0.6,\n",
    "            Singapore_score,\n",
    "            bar_width,\n",
    "            alpha=.4,\n",
    "            label=\"Singapore\")\n",
    "HongKong = plt.bar(index+0.75,\n",
    "            HongKong_score,\n",
    "            bar_width,\n",
    "            alpha=.4,\n",
    "            label=\"HongKong\")\n",
    "\n",
    "# plt.ylabel(\"Mean score\")\n",
    "# plt.xlabel(\"Subject\")\n",
    "#plt.title(\"Test Scores by Contry\")\n",
    "plt.xticks(index+ .3 / 2,(\"Healthy life expectancy\",\"Freedom to make life choices\"))\n",
    "plt.ylim(0, 1.2)\n",
    "plt.legend(prop = {'size':10}) \n",
    "plt.grid(True)\n",
    "plt.show()"
   ]
  },
  {
   "cell_type": "code",
   "execution_count": null,
   "metadata": {},
   "outputs": [],
   "source": []
  },
  {
   "cell_type": "code",
   "execution_count": 38,
   "metadata": {},
   "outputs": [
    {
     "data": {
      "image/png": "[encoded data removed]",
      "text/plain": [
       "<Figure size 432x288 with 1 Axes>"
      ]
     },
     "metadata": {
      "needs_background": "light"
     },
     "output_type": "display_data"
    }
   ],
   "source": [
    "col_count = 2\n",
    "bar_width = 0.15\n",
    "index = np.arange(col_count)\n",
    "Taiwan_score= (0.242,0.097)\n",
    "China_score = (0.058,0.1)\n",
    "Japan_score = (0.069,0.14)\n",
    "SourhKorea_score = (0.175,0.056)\n",
    "Singapore_score = (0.271,0.453)\n",
    "HongKong_score = (0.258,0.287)\n",
    "\n",
    "Taiwan = plt.bar(index,\n",
    "           Taiwan_score, \n",
    "           bar_width,\n",
    "           alpha=.4,\n",
    "           label=\"Taiwan\")\n",
    "China = plt.bar(index+0.15,\n",
    "            China_score,\n",
    "            bar_width,\n",
    "            alpha=.4,\n",
    "            label=\"China\") \n",
    "Japan = plt.bar(index+0.3,\n",
    "            Japan_score,\n",
    "            bar_width,\n",
    "            alpha=.4,\n",
    "            label=\"Japan\")\n",
    "SourhKorea = plt.bar(index+0.45,\n",
    "            SourhKorea_score,\n",
    "            bar_width,\n",
    "            alpha=.4,\n",
    "            label=\"SourhKorea\")\n",
    "Singapore = plt.bar(index+0.6,\n",
    "            Singapore_score,\n",
    "            bar_width,\n",
    "            alpha=.4,\n",
    "            label=\"Singapore\")\n",
    "HongKong = plt.bar(index+0.75,\n",
    "            HongKong_score,\n",
    "            bar_width,\n",
    "            alpha=.4,\n",
    "            label=\"HongKong\")\n",
    "\n",
    "# plt.ylabel(\"Mean score\")\n",
    "# plt.xlabel(\"Subject\")\n",
    "#plt.title(\"Test Scores by Contry\")\n",
    "\n",
    "plt.xticks(index+ .3 / 2,(\"Generosity\",\"Perceptions of corruption\"))\n",
    "plt.ylim(0, 0.5)\n",
    "plt.legend(prop = {'size':10}) \n",
    "plt.grid(True)\n",
    "plt.show()"
   ]
  },
  {
   "cell_type": "code",
   "execution_count": 6,
   "metadata": {},
   "outputs": [
    {
     "data": {
      "text/plain": [
       "<matplotlib.collections.PathCollection at 0x2314d153b08>"
      ]
     },
     "execution_count": 6,
     "metadata": {},
     "output_type": "execute_result"
    },
    {
     "data": {
      "image/png": "[encoded data removed]",
      "text/plain": [
       "<Figure size 432x288 with 1 Axes>"
      ]
     },
     "metadata": {
      "needs_background": "light"
     },
     "output_type": "display_data"
    }
   ],
   "source": [
    "import pandas as pd\n",
    "import matplotlib.pyplot as plt\n",
    "my_list = {'country':[\"Taiwan\",\"China\",\"Japan\",\"South Korea\",\"Singapore\",\"Hong Kong\"],'Score':[6.446,5.191,5.886,5.895,6.262,5.43],'GDP per capita':[1.368,1.029,1.327,1.301,1.572,1.438]}\n",
    "df = pd.DataFrame(my_list)\n",
    "df\n",
    "plt.scatter(my_list[\"GDP per capita\"],my_list[\"Score\"])"
   ]
  },
  {
   "cell_type": "code",
   "execution_count": null,
   "metadata": {},
   "outputs": [],
   "source": []
  }
 ],
 "metadata": {
  "kernelspec": {
   "display_name": "Python 3",
   "language": "python",
   "name": "python3"
  },
  "language_info": {
   "codemirror_mode": {
    "name": "ipython",
    "version": 3
   },
   "file_extension": ".py",
   "mimetype": "text/x-python",
   "name": "python",
   "nbconvert_exporter": "python",
   "pygments_lexer": "ipython3",
   "version": "3.7.6"
  }
 },
 "nbformat": 4,
 "nbformat_minor": 4
}
